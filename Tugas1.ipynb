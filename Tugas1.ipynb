{
  "nbformat": 4,
  "nbformat_minor": 0,
  "metadata": {
    "colab": {
      "name": "Untitled0.ipynb",
      "provenance": [],
      "authorship_tag": "ABX9TyO8+z4OnKH7QWPSRWfniXKS",
      "include_colab_link": true
    },
    "kernelspec": {
      "name": "python3",
      "display_name": "Python 3"
    }
  },
  "cells": [
    {
      "cell_type": "markdown",
      "metadata": {
        "id": "view-in-github",
        "colab_type": "text"
      },
      "source": [
        "<a href=\"https://colab.research.google.com/github/rivaldo125/rivaldopatriakusuma/blob/main/Tugas1.ipynb\" target=\"_parent\"><img src=\"https://colab.research.google.com/assets/colab-badge.svg\" alt=\"Open In Colab\"/></a>"
      ]
    },
    {
      "cell_type": "code",
      "metadata": {
        "id": "Dr3jLvb-4DpC",
        "outputId": "fe9acba7-bbf6-401f-dd83-eef261823eb9",
        "colab": {
          "base_uri": "https://localhost:8080/",
          "height": 1000
        }
      },
      "source": [
        "import pandas as pd\n",
        "path=\"/content/drive/My Drive/Machine Learning/Data Faskes BPJS 2019.csv\"\n",
        "dataset=pd.read_csv(path)\n",
        "dataset"
      ],
      "execution_count": 1,
      "outputs": [
        {
          "output_type": "execute_result",
          "data": {
            "text/html": [
              "<div>\n",
              "<style scoped>\n",
              "    .dataframe tbody tr th:only-of-type {\n",
              "        vertical-align: middle;\n",
              "    }\n",
              "\n",
              "    .dataframe tbody tr th {\n",
              "        vertical-align: top;\n",
              "    }\n",
              "\n",
              "    .dataframe thead th {\n",
              "        text-align: right;\n",
              "    }\n",
              "</style>\n",
              "<table border=\"1\" class=\"dataframe\">\n",
              "  <thead>\n",
              "    <tr style=\"text-align: right;\">\n",
              "      <th></th>\n",
              "      <th>NoLink</th>\n",
              "      <th>Provinsi</th>\n",
              "      <th>KotaKab</th>\n",
              "      <th>Link</th>\n",
              "      <th>TipeFaskes</th>\n",
              "      <th>No</th>\n",
              "      <th>KodeFaskes</th>\n",
              "      <th>NamaFaskes</th>\n",
              "      <th>LatLongFaskes</th>\n",
              "      <th>AlamatFaskes</th>\n",
              "      <th>TelpFaskes</th>\n",
              "    </tr>\n",
              "  </thead>\n",
              "  <tbody>\n",
              "    <tr>\n",
              "      <th>0</th>\n",
              "      <td>0</td>\n",
              "      <td>Nanggroe Aceh Darussalam</td>\n",
              "      <td>Kode Faskes dan Alamat Rumah Sakit BPJS di Kot...</td>\n",
              "      <td>https://lovia.life/id/health/bpjs/area/kota-la...</td>\n",
              "      <td>Rumah Sakit</td>\n",
              "      <td>1</td>\n",
              "      <td>0001R001</td>\n",
              "      <td>RSU Cut Nyak Dhien\\r\\n                    \\r\\n...</td>\n",
              "      <td>http://maps.google.co.id/?q=4.488058,97.947963</td>\n",
              "      <td>Jl. Tm Bahrum No. 1 Langsa</td>\n",
              "      <td>\\r\\n 0641-0621039\\r\\n</td>\n",
              "    </tr>\n",
              "    <tr>\n",
              "      <th>1</th>\n",
              "      <td>0</td>\n",
              "      <td>Nanggroe Aceh Darussalam</td>\n",
              "      <td>Kode Faskes dan Alamat Rumah Sakit BPJS di Kot...</td>\n",
              "      <td>https://lovia.life/id/health/bpjs/area/kota-la...</td>\n",
              "      <td>Rumah Sakit</td>\n",
              "      <td>2</td>\n",
              "      <td>0001R004</td>\n",
              "      <td>RSU Cut Meutia Langsa\\r\\n                    \\...</td>\n",
              "      <td>http://maps.google.co.id/?q=4.488088,97.947781</td>\n",
              "      <td>Jl.Garuda Kebun Baru Langsa</td>\n",
              "      <td>\\r\\n 0641- 4840076\\r\\n</td>\n",
              "    </tr>\n",
              "    <tr>\n",
              "      <th>2</th>\n",
              "      <td>0</td>\n",
              "      <td>Nanggroe Aceh Darussalam</td>\n",
              "      <td>Kode Faskes dan Alamat Rumah Sakit BPJS di Kot...</td>\n",
              "      <td>https://lovia.life/id/health/bpjs/area/kota-la...</td>\n",
              "      <td>Rumah Sakit</td>\n",
              "      <td>3</td>\n",
              "      <td>0105R001</td>\n",
              "      <td>RSUD Langsa\\r\\n                    \\r\\n       ...</td>\n",
              "      <td>http://maps.google.co.id/?q=4.472208,97.975533</td>\n",
              "      <td>Jln.A.Yani No. 1 Langsa</td>\n",
              "      <td>\\r\\n 0641-22051\\r\\n</td>\n",
              "    </tr>\n",
              "    <tr>\n",
              "      <th>3</th>\n",
              "      <td>0</td>\n",
              "      <td>Nanggroe Aceh Darussalam</td>\n",
              "      <td>Kode Faskes dan Alamat Rumah Sakit BPJS di Kot...</td>\n",
              "      <td>https://lovia.life/id/health/bpjs/area/kota-la...</td>\n",
              "      <td>Rumah Sakit</td>\n",
              "      <td>4</td>\n",
              "      <td>0105R013</td>\n",
              "      <td>RSU Ummi \\r\\n                    \\r\\n         ...</td>\n",
              "      <td>http://maps.google.co.id/?q=4.470376,97.991915</td>\n",
              "      <td>Jln. Prof. A. Madjid Ibrahim</td>\n",
              "      <td>\\r\\n 0641-22886\\r\\n</td>\n",
              "    </tr>\n",
              "    <tr>\n",
              "      <th>4</th>\n",
              "      <td>0</td>\n",
              "      <td>Nanggroe Aceh Darussalam</td>\n",
              "      <td>Kode Faskes dan Alamat Rumah Sakit BPJS di Kot...</td>\n",
              "      <td>https://lovia.life/id/health/bpjs/area/kota-la...</td>\n",
              "      <td>Puskesmas</td>\n",
              "      <td>1</td>\n",
              "      <td>00010001</td>\n",
              "      <td>Langsa Lama\\r\\n                    \\r\\n       ...</td>\n",
              "      <td>http://maps.google.co.id/?q=4.478172,97.949988</td>\n",
              "      <td>Gampong Meurandeh Dayah</td>\n",
              "      <td>\\r\\n 0641-064121218\\r\\n</td>\n",
              "    </tr>\n",
              "    <tr>\n",
              "      <th>...</th>\n",
              "      <td>...</td>\n",
              "      <td>...</td>\n",
              "      <td>...</td>\n",
              "      <td>...</td>\n",
              "      <td>...</td>\n",
              "      <td>...</td>\n",
              "      <td>...</td>\n",
              "      <td>...</td>\n",
              "      <td>...</td>\n",
              "      <td>...</td>\n",
              "      <td>...</td>\n",
              "    </tr>\n",
              "    <tr>\n",
              "      <th>29152</th>\n",
              "      <td>513</td>\n",
              "      <td>Kalimantan Utara</td>\n",
              "      <td>Kode Faskes dan Alamat Rumah Sakit BPJS di\\r\\n...</td>\n",
              "      <td>https://lovia.life/id/health/bpjs/area/kab-tan...</td>\n",
              "      <td>Dokter Praktik Perorangan</td>\n",
              "      <td>-</td>\n",
              "      <td>-</td>\n",
              "      <td>-</td>\n",
              "      <td>-</td>\n",
              "      <td>-</td>\n",
              "      <td>-</td>\n",
              "    </tr>\n",
              "    <tr>\n",
              "      <th>29153</th>\n",
              "      <td>513</td>\n",
              "      <td>Kalimantan Utara</td>\n",
              "      <td>Kode Faskes dan Alamat Rumah Sakit BPJS di\\r\\n...</td>\n",
              "      <td>https://lovia.life/id/health/bpjs/area/kab-tan...</td>\n",
              "      <td>Dokter Gigi</td>\n",
              "      <td>-</td>\n",
              "      <td>-</td>\n",
              "      <td>-</td>\n",
              "      <td>-</td>\n",
              "      <td>-</td>\n",
              "      <td>-</td>\n",
              "    </tr>\n",
              "    <tr>\n",
              "      <th>29154</th>\n",
              "      <td>513</td>\n",
              "      <td>Kalimantan Utara</td>\n",
              "      <td>Kode Faskes dan Alamat Rumah Sakit BPJS di\\r\\n...</td>\n",
              "      <td>https://lovia.life/id/health/bpjs/area/kab-tan...</td>\n",
              "      <td>Klinik Utama</td>\n",
              "      <td>-</td>\n",
              "      <td>-</td>\n",
              "      <td>-</td>\n",
              "      <td>-</td>\n",
              "      <td>-</td>\n",
              "      <td>-</td>\n",
              "    </tr>\n",
              "    <tr>\n",
              "      <th>29155</th>\n",
              "      <td>513</td>\n",
              "      <td>Kalimantan Utara</td>\n",
              "      <td>Kode Faskes dan Alamat Rumah Sakit BPJS di\\r\\n...</td>\n",
              "      <td>https://lovia.life/id/health/bpjs/area/kab-tan...</td>\n",
              "      <td>Klinik Pratama</td>\n",
              "      <td>1</td>\n",
              "      <td>0472B001</td>\n",
              "      <td>RSUD Akhmad Berahim \\r\\n                    \\r...</td>\n",
              "      <td>-</td>\n",
              "      <td>Jl. Perintis Km I</td>\n",
              "      <td>\\r\\n 0813-86928242\\r\\n</td>\n",
              "    </tr>\n",
              "    <tr>\n",
              "      <th>29156</th>\n",
              "      <td>513</td>\n",
              "      <td>Kalimantan Utara</td>\n",
              "      <td>Kode Faskes dan Alamat Rumah Sakit BPJS di\\r\\n...</td>\n",
              "      <td>https://lovia.life/id/health/bpjs/area/kab-tan...</td>\n",
              "      <td>Apotek</td>\n",
              "      <td>-</td>\n",
              "      <td>-</td>\n",
              "      <td>-</td>\n",
              "      <td>-</td>\n",
              "      <td>-</td>\n",
              "      <td>-</td>\n",
              "    </tr>\n",
              "  </tbody>\n",
              "</table>\n",
              "<p>29157 rows × 11 columns</p>\n",
              "</div>"
            ],
            "text/plain": [
              "       NoLink  ...               TelpFaskes\n",
              "0           0  ...    \\r\\n 0641-0621039\\r\\n\n",
              "1           0  ...   \\r\\n 0641- 4840076\\r\\n\n",
              "2           0  ...      \\r\\n 0641-22051\\r\\n\n",
              "3           0  ...      \\r\\n 0641-22886\\r\\n\n",
              "4           0  ...  \\r\\n 0641-064121218\\r\\n\n",
              "...       ...  ...                      ...\n",
              "29152     513  ...                        -\n",
              "29153     513  ...                        -\n",
              "29154     513  ...                        -\n",
              "29155     513  ...   \\r\\n 0813-86928242\\r\\n\n",
              "29156     513  ...                        -\n",
              "\n",
              "[29157 rows x 11 columns]"
            ]
          },
          "metadata": {
            "tags": []
          },
          "execution_count": 1
        }
      ]
    },
    {
      "cell_type": "code",
      "metadata": {
        "id": "FN8ssCv5581M",
        "outputId": "6a56a002-5b9f-4c25-e177-d3dfe2b3b08e",
        "colab": {
          "base_uri": "https://localhost:8080/",
          "height": 819
        }
      },
      "source": [
        "dataset.head()"
      ],
      "execution_count": 2,
      "outputs": [
        {
          "output_type": "execute_result",
          "data": {
            "text/html": [
              "<div>\n",
              "<style scoped>\n",
              "    .dataframe tbody tr th:only-of-type {\n",
              "        vertical-align: middle;\n",
              "    }\n",
              "\n",
              "    .dataframe tbody tr th {\n",
              "        vertical-align: top;\n",
              "    }\n",
              "\n",
              "    .dataframe thead th {\n",
              "        text-align: right;\n",
              "    }\n",
              "</style>\n",
              "<table border=\"1\" class=\"dataframe\">\n",
              "  <thead>\n",
              "    <tr style=\"text-align: right;\">\n",
              "      <th></th>\n",
              "      <th>NoLink</th>\n",
              "      <th>Provinsi</th>\n",
              "      <th>KotaKab</th>\n",
              "      <th>Link</th>\n",
              "      <th>TipeFaskes</th>\n",
              "      <th>No</th>\n",
              "      <th>KodeFaskes</th>\n",
              "      <th>NamaFaskes</th>\n",
              "      <th>LatLongFaskes</th>\n",
              "      <th>AlamatFaskes</th>\n",
              "      <th>TelpFaskes</th>\n",
              "    </tr>\n",
              "  </thead>\n",
              "  <tbody>\n",
              "    <tr>\n",
              "      <th>0</th>\n",
              "      <td>0</td>\n",
              "      <td>Nanggroe Aceh Darussalam</td>\n",
              "      <td>Kode Faskes dan Alamat Rumah Sakit BPJS di Kot...</td>\n",
              "      <td>https://lovia.life/id/health/bpjs/area/kota-la...</td>\n",
              "      <td>Rumah Sakit</td>\n",
              "      <td>1</td>\n",
              "      <td>0001R001</td>\n",
              "      <td>RSU Cut Nyak Dhien\\r\\n                    \\r\\n...</td>\n",
              "      <td>http://maps.google.co.id/?q=4.488058,97.947963</td>\n",
              "      <td>Jl. Tm Bahrum No. 1 Langsa</td>\n",
              "      <td>\\r\\n 0641-0621039\\r\\n</td>\n",
              "    </tr>\n",
              "    <tr>\n",
              "      <th>1</th>\n",
              "      <td>0</td>\n",
              "      <td>Nanggroe Aceh Darussalam</td>\n",
              "      <td>Kode Faskes dan Alamat Rumah Sakit BPJS di Kot...</td>\n",
              "      <td>https://lovia.life/id/health/bpjs/area/kota-la...</td>\n",
              "      <td>Rumah Sakit</td>\n",
              "      <td>2</td>\n",
              "      <td>0001R004</td>\n",
              "      <td>RSU Cut Meutia Langsa\\r\\n                    \\...</td>\n",
              "      <td>http://maps.google.co.id/?q=4.488088,97.947781</td>\n",
              "      <td>Jl.Garuda Kebun Baru Langsa</td>\n",
              "      <td>\\r\\n 0641- 4840076\\r\\n</td>\n",
              "    </tr>\n",
              "    <tr>\n",
              "      <th>2</th>\n",
              "      <td>0</td>\n",
              "      <td>Nanggroe Aceh Darussalam</td>\n",
              "      <td>Kode Faskes dan Alamat Rumah Sakit BPJS di Kot...</td>\n",
              "      <td>https://lovia.life/id/health/bpjs/area/kota-la...</td>\n",
              "      <td>Rumah Sakit</td>\n",
              "      <td>3</td>\n",
              "      <td>0105R001</td>\n",
              "      <td>RSUD Langsa\\r\\n                    \\r\\n       ...</td>\n",
              "      <td>http://maps.google.co.id/?q=4.472208,97.975533</td>\n",
              "      <td>Jln.A.Yani No. 1 Langsa</td>\n",
              "      <td>\\r\\n 0641-22051\\r\\n</td>\n",
              "    </tr>\n",
              "    <tr>\n",
              "      <th>3</th>\n",
              "      <td>0</td>\n",
              "      <td>Nanggroe Aceh Darussalam</td>\n",
              "      <td>Kode Faskes dan Alamat Rumah Sakit BPJS di Kot...</td>\n",
              "      <td>https://lovia.life/id/health/bpjs/area/kota-la...</td>\n",
              "      <td>Rumah Sakit</td>\n",
              "      <td>4</td>\n",
              "      <td>0105R013</td>\n",
              "      <td>RSU Ummi \\r\\n                    \\r\\n         ...</td>\n",
              "      <td>http://maps.google.co.id/?q=4.470376,97.991915</td>\n",
              "      <td>Jln. Prof. A. Madjid Ibrahim</td>\n",
              "      <td>\\r\\n 0641-22886\\r\\n</td>\n",
              "    </tr>\n",
              "    <tr>\n",
              "      <th>4</th>\n",
              "      <td>0</td>\n",
              "      <td>Nanggroe Aceh Darussalam</td>\n",
              "      <td>Kode Faskes dan Alamat Rumah Sakit BPJS di Kot...</td>\n",
              "      <td>https://lovia.life/id/health/bpjs/area/kota-la...</td>\n",
              "      <td>Puskesmas</td>\n",
              "      <td>1</td>\n",
              "      <td>00010001</td>\n",
              "      <td>Langsa Lama\\r\\n                    \\r\\n       ...</td>\n",
              "      <td>http://maps.google.co.id/?q=4.478172,97.949988</td>\n",
              "      <td>Gampong Meurandeh Dayah</td>\n",
              "      <td>\\r\\n 0641-064121218\\r\\n</td>\n",
              "    </tr>\n",
              "  </tbody>\n",
              "</table>\n",
              "</div>"
            ],
            "text/plain": [
              "   NoLink  ...               TelpFaskes\n",
              "0       0  ...    \\r\\n 0641-0621039\\r\\n\n",
              "1       0  ...   \\r\\n 0641- 4840076\\r\\n\n",
              "2       0  ...      \\r\\n 0641-22051\\r\\n\n",
              "3       0  ...      \\r\\n 0641-22886\\r\\n\n",
              "4       0  ...  \\r\\n 0641-064121218\\r\\n\n",
              "\n",
              "[5 rows x 11 columns]"
            ]
          },
          "metadata": {
            "tags": []
          },
          "execution_count": 2
        }
      ]
    },
    {
      "cell_type": "code",
      "metadata": {
        "id": "0n0xSd1j6GRZ",
        "outputId": "460efec6-1c0c-4b06-a3da-a7c77149002d",
        "colab": {
          "base_uri": "https://localhost:8080/",
          "height": 34
        }
      },
      "source": [
        "dataset.shape"
      ],
      "execution_count": 3,
      "outputs": [
        {
          "output_type": "execute_result",
          "data": {
            "text/plain": [
              "(29157, 11)"
            ]
          },
          "metadata": {
            "tags": []
          },
          "execution_count": 3
        }
      ]
    },
    {
      "cell_type": "code",
      "metadata": {
        "id": "xHZZDasd6Lpx",
        "outputId": "b194c769-7fa4-419d-fad0-d3d1fc792b84",
        "colab": {
          "base_uri": "https://localhost:8080/",
          "height": 221
        }
      },
      "source": [
        "dataset.isnull().sum()"
      ],
      "execution_count": 4,
      "outputs": [
        {
          "output_type": "execute_result",
          "data": {
            "text/plain": [
              "NoLink           0\n",
              "Provinsi         0\n",
              "KotaKab          0\n",
              "Link             0\n",
              "TipeFaskes       0\n",
              "No               0\n",
              "KodeFaskes       0\n",
              "NamaFaskes       0\n",
              "LatLongFaskes    0\n",
              "AlamatFaskes     0\n",
              "TelpFaskes       0\n",
              "dtype: int64"
            ]
          },
          "metadata": {
            "tags": []
          },
          "execution_count": 4
        }
      ]
    },
    {
      "cell_type": "code",
      "metadata": {
        "id": "Qh8GvLo16Zl8",
        "outputId": "b1dfaf65-f128-49d3-bcbb-10fead1e9dae",
        "colab": {
          "base_uri": "https://localhost:8080/",
          "height": 221
        }
      },
      "source": [
        "dataset.max()"
      ],
      "execution_count": 5,
      "outputs": [
        {
          "output_type": "execute_result",
          "data": {
            "text/plain": [
              "NoLink                                                         513\n",
              "Provinsi                                            Sumatera Utara\n",
              "KotaKab          Kode Faskes dan Alamat Rumah Sakit BPJS di Kot...\n",
              "Link             https://lovia.life/id/health/bpjs/area/minahas...\n",
              "TipeFaskes                                             Rumah Sakit\n",
              "No                                                              99\n",
              "KodeFaskes                                                26220401\n",
              "NamaFaskes       uptd puskesmas ULUNOYO\\r\\n                    ...\n",
              "LatLongFaskes          http://maps.google.co.id/?q=98.78953,3.5222\n",
              "AlamatFaskes                                Ÿmerauke Papua Merauke\n",
              "TelpFaskes                                                       -\n",
              "dtype: object"
            ]
          },
          "metadata": {
            "tags": []
          },
          "execution_count": 5
        }
      ]
    },
    {
      "cell_type": "code",
      "metadata": {
        "id": "MAYkMcKH6hu2",
        "outputId": "f8504dba-97e0-4dc8-8a05-066243df5644",
        "colab": {
          "base_uri": "https://localhost:8080/",
          "height": 297
        }
      },
      "source": [
        "dataset.describe()"
      ],
      "execution_count": 6,
      "outputs": [
        {
          "output_type": "execute_result",
          "data": {
            "text/html": [
              "<div>\n",
              "<style scoped>\n",
              "    .dataframe tbody tr th:only-of-type {\n",
              "        vertical-align: middle;\n",
              "    }\n",
              "\n",
              "    .dataframe tbody tr th {\n",
              "        vertical-align: top;\n",
              "    }\n",
              "\n",
              "    .dataframe thead th {\n",
              "        text-align: right;\n",
              "    }\n",
              "</style>\n",
              "<table border=\"1\" class=\"dataframe\">\n",
              "  <thead>\n",
              "    <tr style=\"text-align: right;\">\n",
              "      <th></th>\n",
              "      <th>NoLink</th>\n",
              "    </tr>\n",
              "  </thead>\n",
              "  <tbody>\n",
              "    <tr>\n",
              "      <th>count</th>\n",
              "      <td>29157.000000</td>\n",
              "    </tr>\n",
              "    <tr>\n",
              "      <th>mean</th>\n",
              "      <td>227.003978</td>\n",
              "    </tr>\n",
              "    <tr>\n",
              "      <th>std</th>\n",
              "      <td>122.870434</td>\n",
              "    </tr>\n",
              "    <tr>\n",
              "      <th>min</th>\n",
              "      <td>0.000000</td>\n",
              "    </tr>\n",
              "    <tr>\n",
              "      <th>25%</th>\n",
              "      <td>149.000000</td>\n",
              "    </tr>\n",
              "    <tr>\n",
              "      <th>50%</th>\n",
              "      <td>211.000000</td>\n",
              "    </tr>\n",
              "    <tr>\n",
              "      <th>75%</th>\n",
              "      <td>306.000000</td>\n",
              "    </tr>\n",
              "    <tr>\n",
              "      <th>max</th>\n",
              "      <td>513.000000</td>\n",
              "    </tr>\n",
              "  </tbody>\n",
              "</table>\n",
              "</div>"
            ],
            "text/plain": [
              "             NoLink\n",
              "count  29157.000000\n",
              "mean     227.003978\n",
              "std      122.870434\n",
              "min        0.000000\n",
              "25%      149.000000\n",
              "50%      211.000000\n",
              "75%      306.000000\n",
              "max      513.000000"
            ]
          },
          "metadata": {
            "tags": []
          },
          "execution_count": 6
        }
      ]
    },
    {
      "cell_type": "code",
      "metadata": {
        "id": "KDlpfEYk7GoU"
      },
      "source": [
        "data=dataset.dropna()"
      ],
      "execution_count": 10,
      "outputs": []
    },
    {
      "cell_type": "code",
      "metadata": {
        "id": "sdNB7zme7yh6",
        "outputId": "9496426c-9b4d-45fa-8c37-3e44127667a5",
        "colab": {
          "base_uri": "https://localhost:8080/",
          "height": 34
        }
      },
      "source": [
        "data.shape"
      ],
      "execution_count": 11,
      "outputs": [
        {
          "output_type": "execute_result",
          "data": {
            "text/plain": [
              "(29157, 11)"
            ]
          },
          "metadata": {
            "tags": []
          },
          "execution_count": 11
        }
      ]
    }
  ]
}